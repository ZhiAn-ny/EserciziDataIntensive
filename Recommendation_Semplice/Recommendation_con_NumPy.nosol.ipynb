{
  "cells": [
    {
      "cell_type": "markdown",
      "id": "3a23e073",
      "metadata": {
        "id": "3a23e073"
      },
      "source": [
        "# Laboratorio: Recommendation con Algebra Lineare e NumPy\n",
        "\n",
        "**Programmazione di Applicazioni Data Intensive**  \n",
        "Laurea in Ingegneria e Scienze Informatiche  \n",
        "DISI - Università di Bologna, Cesena\n",
        "\n",
        "Proff. Gianluca Moro, Roberto Pasolini  \n",
        "nome.cognome@unibo.it"
      ]
    },
    {
      "cell_type": "markdown",
      "id": "505c1925",
      "metadata": {
        "id": "505c1925"
      },
      "source": [
        "## Test librerie\n",
        "\n",
        "- NumPy si trova preinstallato su Colab e Anaconda\n",
        "- Eseguire la seguente cella per verificare il corretto funzionamento di NumPy"
      ]
    },
    {
      "cell_type": "code",
      "execution_count": 1,
      "id": "0b3bd34a",
      "metadata": {
        "colab": {
          "base_uri": "https://localhost:8080/"
        },
        "id": "0b3bd34a",
        "outputId": "50dbe015-89fe-498e-efc0-7b0ba5f9aa45"
      },
      "outputs": [
        {
          "output_type": "execute_result",
          "data": {
            "text/plain": [
              "42"
            ]
          },
          "metadata": {},
          "execution_count": 1
        }
      ],
      "source": [
        "import numpy as np\n",
        "np.array([2, 6, 10, 24]).sum()"
      ]
    },
    {
      "cell_type": "markdown",
      "id": "b5ee2dbe",
      "metadata": {
        "id": "b5ee2dbe"
      },
      "source": [
        "- In caso di errore, verificare di stare utilizzando il kernel corretto e che NumPy sia installato in esso\n",
        "- Per installare NumPy all'interno dell'ambiente virtuale corrente (può dare errore per permessi insufficienti in caso non si stia utilizzando un ambiente virtuale):"
      ]
    },
    {
      "cell_type": "code",
      "execution_count": null,
      "id": "8a04d912",
      "metadata": {
        "id": "8a04d912"
      },
      "outputs": [],
      "source": [
        "# rimuovere il \"#\" nella riga sotto per abilitare il comando\n",
        "#pip install numpy"
      ]
    },
    {
      "cell_type": "markdown",
      "id": "805a13c8",
      "metadata": {
        "id": "805a13c8"
      },
      "source": [
        "## Recommendation: da strutture dati Python a matrici NumPy\n",
        "\n",
        "- Nella scorsa esercitazione abbiamo introdotto la **recommendation** di prodotti\n",
        "  - sappiamo **quali utenti** di un sito di e-commerce **hanno acquistato quali prodotti**\n",
        "  - vogliamo fornire **suggerimenti personalizzati a ciascun utente** su quali ulteriori prodotti dovrebbe acquistare\n",
        "- Abbiamo implementato una soluzione utilizzando **strutture dati e funzioni standard di Python**\n",
        "  - dizionari, insiemi, comprehension, ...\n",
        "- In questa esercitazione ripetiamo gli stessi passaggi usando **array NumPy**\n",
        "- Vediamo così come un problema reale si possa modellare nell'ambito dell'algebra lineare e risolvere tramite semplici operazioni tra matrici"
      ]
    },
    {
      "cell_type": "markdown",
      "id": "e82356f2",
      "metadata": {
        "id": "e82356f2"
      },
      "source": [
        "### Scaricamento file dati\n",
        "\n",
        "- Riutilizziamo i dati della scorsa esercitazione, scaricabili all'URL https://git.io/fhxQh\n",
        "- Eseguire la seguente cella di codice per scaricare il file ZIP dall'URL sopra ed estrarne i file"
      ]
    },
    {
      "cell_type": "code",
      "execution_count": 2,
      "id": "45b45aee",
      "metadata": {
        "id": "45b45aee"
      },
      "outputs": [],
      "source": [
        "import os.path\n",
        "if not os.path.exists(\"purchases_data.zip\"):\n",
        "    from urllib.request import urlretrieve\n",
        "    urlretrieve(\"https://git.io/fhxQh\", \"purchases_data.zip\")\n",
        "    from zipfile import ZipFile\n",
        "    with ZipFile(\"purchases_data.zip\") as f:\n",
        "        f.extractall()"
      ]
    },
    {
      "cell_type": "markdown",
      "id": "734642a7",
      "metadata": {
        "id": "734642a7"
      },
      "source": [
        "### Caricamento Dati\n",
        "\n",
        "- Ripetiamo i passaggi della scorsa esercitazione per caricare i dati dai file\n",
        "  - il file `users.csv` contiene ID e nomi degli utenti analizzati: li carichiamo in un dizionario `users` che associ i nomi agli ID\n",
        "  - facciamo lo stesso col file `items.csv`, che contiene ID e nomi dei prodotti: otteniamo un dizionario `items`\n",
        "  - il file `purchases-2000.csv` contiene gli acquisti fino alla fine del 2000 in forma di tuple ID utente + ID prodotto: le carichiamo in un insieme `purchases_set`"
      ]
    },
    {
      "cell_type": "code",
      "execution_count": 3,
      "id": "93dc88da",
      "metadata": {
        "id": "93dc88da"
      },
      "outputs": [],
      "source": [
        "import csv\n",
        "with open(\"users.csv\", \"r\") as f:\n",
        "    users = {int(uid): name for uid, name in csv.reader(f, delimiter=\";\")}\n",
        "with open(\"items.csv\", \"r\") as f:\n",
        "    items = {int(iid): name for iid, name in csv.reader(f, delimiter=\";\")}\n",
        "with open(\"purchases-2000.csv\", \"r\") as f:\n",
        "    purchases_set = {(int(uid), int(iid)) for uid, iid in csv.reader(f, delimiter=\";\")}"
      ]
    },
    {
      "cell_type": "markdown",
      "id": "b5f1f55e",
      "metadata": {
        "id": "b5f1f55e"
      },
      "source": [
        "## Algebra Lineare e NumPy\n",
        "\n",
        "- Oggetto di studio dell'**algebra lineare** sono i vettori, le matrici e le principali operazioni tra di essi\n",
        "  - con vettori e matrici si possono rappresentare dati da analizzare\n",
        "  - informazioni d'interesse si possono estrarre con operazioni come il prodotto tra matrici\n",
        "- **NumPy** è una libreria Python molto usata per lavorare con vettori, matrici e array N-dimensionali in generale\n",
        "  - sugli array NumPy si possono compiere efficientemente operazioni elemento per elemento, aggregazioni, operazioni di algebra lineare, ecc.\n",
        "- Iniziando importando il package `numpy` assegnandogli l'alias convenzionale `np`"
      ]
    },
    {
      "cell_type": "code",
      "execution_count": 4,
      "id": "7a580ed5",
      "metadata": {
        "id": "7a580ed5"
      },
      "outputs": [],
      "source": [
        "import numpy as np"
      ]
    },
    {
      "cell_type": "markdown",
      "id": "efed1b4c",
      "metadata": {
        "id": "efed1b4c"
      },
      "source": [
        "## Rappresentare gli acquisti in forma di matrice\n",
        "\n",
        "- L'insieme `purchases` degli acquisti degli utenti analizzati può essere rappresentato in una matrice binaria (ovvero di valori 0 e 1)\n",
        "  - ogni **riga** corrisponde ad un **utente**\n",
        "  - ogni **colonna** corrisponde ad un **prodotto** distinto\n",
        "  - il valore della cella _i,j_ è 1 se l'utente i ha acquistato il prodotto j, 0 altrimenti\n",
        "\n",
        "$$\\mathbf{P} = \\begin{bmatrix}0&1&0&1&0&\\cdots\\\\1&0&0&1&0&\\cdots\\\\0&0&1&0&1&\\ldots\\\\\\vdots&\\vdots&\\vdots&\\vdots&\\vdots&\\ddots\\end{bmatrix}$$\n",
        "\n",
        "- Vediamo come costruire tale matrice"
      ]
    },
    {
      "cell_type": "markdown",
      "id": "466fb56a",
      "metadata": {
        "id": "466fb56a"
      },
      "source": [
        "### Assegnazione di indici a utenti e prodotti\n",
        "\n",
        "- Iniziamo definendo **a quali utenti e prodotti corrispondano** rispettivamente **righe e colonne** della matrice\n",
        "- Costruiamo un dizionario `user_indices` che associ ad ognuno degli N ID utente (`uid`) un numero tra 0 e N-1 (`index`)\n",
        "  - usiamo `enumerate` per ottenere tuple `(index, uid)`, dove _index_ è un numero progressivo da 0 a N-1  \n",
        "    `enumerate([X, Y, Z])` $\\Rightarrow$ `(0, X), (1, Y), (2, Z)`\n",
        "  - usiamo `sorted` per ottenere le chiavi in ordine crescente\n",
        "    - non è strettamente necessario, ma garantisce la piena riproducibilità dei passaggi"
      ]
    },
    {
      "cell_type": "code",
      "execution_count": 22,
      "id": "67ee70ae",
      "metadata": {
        "id": "67ee70ae"
      },
      "outputs": [],
      "source": [
        "# Prendo tutti gli id caricati e creo un dizionario di tipo:\n",
        "#    {uid: index, uid: index, ...)\n",
        "# L'indice lo ottengo semplicemente iterando sulla lista di id\n",
        "user_indices = {uid: index for index, uid in enumerate(sorted(users.keys()))}\n",
        "\n",
        "# Con questo modo, invece, il dizionario avrà forma:\n",
        "#    [(index, uid), (index, uid), ...]\n",
        "#user_indices = list(enumerate(sorted(users.keys())))\n",
        "# Così però non funziona il comando: user_indices[uid]"
      ]
    },
    {
      "cell_type": "code",
      "source": [
        "user_indices"
      ],
      "metadata": {
        "colab": {
          "base_uri": "https://localhost:8080/"
        },
        "id": "khgAmNMMXbp9",
        "outputId": "84475ca7-3b66-48e3-e227-e3f91a89c85c"
      },
      "id": "khgAmNMMXbp9",
      "execution_count": 23,
      "outputs": [
        {
          "output_type": "execute_result",
          "data": {
            "text/plain": [
              "{84: 0,\n",
              " 7661: 1,\n",
              " 22759: 2,\n",
              " 27153: 3,\n",
              " 42298: 4,\n",
              " 44082: 5,\n",
              " 48144: 6,\n",
              " 52797: 7,\n",
              " 58135: 8,\n",
              " 62023: 9,\n",
              " 63776: 10,\n",
              " 81819: 11,\n",
              " 82397: 12,\n",
              " 83632: 13,\n",
              " 93938: 14,\n",
              " 109403: 15,\n",
              " 110576: 16,\n",
              " 116105: 17,\n",
              " 116614: 18,\n",
              " 125462: 19,\n",
              " 125883: 20,\n",
              " 126922: 21,\n",
              " 130054: 22,\n",
              " 138128: 23,\n",
              " 140844: 24,\n",
              " 158428: 25,\n",
              " 158855: 26,\n",
              " 164121: 27,\n",
              " 165618: 28,\n",
              " 172716: 29,\n",
              " 187485: 30,\n",
              " 188455: 31,\n",
              " 190242: 32,\n",
              " 192779: 33,\n",
              " 218221: 34,\n",
              " 218789: 35,\n",
              " 224067: 36,\n",
              " 229993: 37,\n",
              " 231204: 38,\n",
              " 239871: 39,\n",
              " 260996: 40,\n",
              " 261279: 41,\n",
              " 274676: 42,\n",
              " 279452: 43,\n",
              " 281883: 44,\n",
              " 293553: 45,\n",
              " 296466: 46,\n",
              " 339981: 47,\n",
              " 360171: 48,\n",
              " 362142: 49,\n",
              " 365071: 50,\n",
              " 365712: 51,\n",
              " 368839: 52,\n",
              " 390353: 53,\n",
              " 391690: 54,\n",
              " 393881: 55,\n",
              " 395248: 56,\n",
              " 399035: 57,\n",
              " 424169: 58,\n",
              " 426926: 59,\n",
              " 429177: 60,\n",
              " 431084: 61,\n",
              " 431136: 62,\n",
              " 439900: 63,\n",
              " 442793: 64,\n",
              " 446291: 65,\n",
              " 452809: 66,\n",
              " 458094: 67,\n",
              " 464319: 68,\n",
              " 483531: 69,\n",
              " 493152: 70,\n",
              " 502896: 71,\n",
              " 503195: 72,\n",
              " 508200: 73,\n",
              " 512280: 74,\n",
              " 516868: 75,\n",
              " 529431: 76,\n",
              " 533414: 77,\n",
              " 536662: 78,\n",
              " 541672: 79,\n",
              " 580709: 80,\n",
              " 582187: 81,\n",
              " 586812: 82,\n",
              " 607363: 83,\n",
              " 609818: 84,\n",
              " 620746: 85,\n",
              " 624547: 86,\n",
              " 625472: 87,\n",
              " 638025: 88,\n",
              " 639998: 89,\n",
              " 641520: 90,\n",
              " 646087: 91,\n",
              " 652570: 92,\n",
              " 660019: 93,\n",
              " 665876: 94,\n",
              " 667125: 95,\n",
              " 669512: 96,\n",
              " 676405: 97,\n",
              " 683007: 98,\n",
              " 690099: 99,\n",
              " 693120: 100,\n",
              " 720060: 101,\n",
              " 721138: 102,\n",
              " 724868: 103,\n",
              " 733434: 104,\n",
              " 743388: 105,\n",
              " 744355: 106,\n",
              " 749894: 107,\n",
              " 753999: 108,\n",
              " 757804: 109,\n",
              " 760122: 110,\n",
              " 770638: 111,\n",
              " 771431: 112,\n",
              " 774984: 113,\n",
              " 776528: 114,\n",
              " 780698: 115,\n",
              " 781295: 116,\n",
              " 785177: 117,\n",
              " 791603: 118,\n",
              " 801923: 119,\n",
              " 811933: 120,\n",
              " 815745: 121,\n",
              " 817135: 122,\n",
              " 822138: 123,\n",
              " 827287: 124,\n",
              " 837149: 125,\n",
              " 845125: 126,\n",
              " 858056: 127,\n",
              " 865352: 128,\n",
              " 867901: 129,\n",
              " 873863: 130,\n",
              " 877426: 131,\n",
              " 885334: 132,\n",
              " 889499: 133,\n",
              " 891040: 134,\n",
              " 906953: 135,\n",
              " 913001: 136,\n",
              " 919243: 137,\n",
              " 935601: 138,\n",
              " 939245: 139,\n",
              " 946673: 140,\n",
              " 956669: 141,\n",
              " 958462: 142,\n",
              " 964312: 143,\n",
              " 968238: 144,\n",
              " 970622: 145,\n",
              " 992975: 146,\n",
              " 993076: 147,\n",
              " 999745: 148,\n",
              " 1001561: 149,\n",
              " 1001958: 150,\n",
              " 1003282: 151,\n",
              " 1007279: 152,\n",
              " 1012166: 153,\n",
              " 1025221: 154,\n",
              " 1029826: 155,\n",
              " 1044118: 156,\n",
              " 1047631: 157,\n",
              " 1056591: 158,\n",
              " 1073342: 159,\n",
              " 1091373: 160,\n",
              " 1092996: 161,\n",
              " 1095730: 162,\n",
              " 1098934: 163,\n",
              " 1102867: 164,\n",
              " 1114481: 165,\n",
              " 1117512: 166,\n",
              " 1124810: 167,\n",
              " 1147230: 168,\n",
              " 1169585: 169,\n",
              " 1185145: 170,\n",
              " 1187775: 171,\n",
              " 1194368: 172,\n",
              " 1200961: 173,\n",
              " 1201103: 174,\n",
              " 1201295: 175,\n",
              " 1228076: 176,\n",
              " 1234283: 177}"
            ]
          },
          "metadata": {},
          "execution_count": 23
        }
      ]
    },
    {
      "cell_type": "markdown",
      "id": "7d1e82ab",
      "metadata": {
        "id": "7d1e82ab"
      },
      "source": [
        "- Eseguiamo un'operazione simile per ottenere un dizionario `item_indices` con la numerazione degli oggetti"
      ]
    },
    {
      "cell_type": "code",
      "execution_count": 8,
      "id": "c85a4388",
      "metadata": {
        "id": "c85a4388"
      },
      "outputs": [],
      "source": [
        "item_indices = {iid: index for index, iid in enumerate(sorted(items.keys()))}"
      ]
    },
    {
      "cell_type": "markdown",
      "id": "4831eee1",
      "metadata": {
        "id": "4831eee1"
      },
      "source": [
        "- Abbiamo così ottenuto dizionari che mappano ID utenti e prodotti a righe e colonne della matrice\n",
        "- Ad esempio, la riga corrispondente all'utente con ID 63776 ha indice..."
      ]
    },
    {
      "cell_type": "code",
      "execution_count": 24,
      "id": "57611295",
      "metadata": {
        "colab": {
          "base_uri": "https://localhost:8080/"
        },
        "id": "57611295",
        "outputId": "8d4c5012-57ab-45d6-f1a1-ba90e6bc2937"
      },
      "outputs": [
        {
          "output_type": "execute_result",
          "data": {
            "text/plain": [
              "10"
            ]
          },
          "metadata": {},
          "execution_count": 24
        }
      ],
      "source": [
        "user_indices[63776]"
      ]
    },
    {
      "cell_type": "markdown",
      "id": "26982d10",
      "metadata": {
        "id": "26982d10"
      },
      "source": [
        "### Inizializzazione della matrice\n",
        "\n",
        "- Per allocare la matrice degli acquisti, definiamone dapprima la _forma_, ovvero il numero di righe e di colonne\n",
        "- Questi sono pari rispettivamente al numero di utenti e di prodotti, che salviamo in due variabili per comodità"
      ]
    },
    {
      "cell_type": "code",
      "execution_count": 18,
      "id": "6d67e5f5",
      "metadata": {
        "colab": {
          "base_uri": "https://localhost:8080/"
        },
        "id": "6d67e5f5",
        "outputId": "102bfeef-84e2-43fe-c7b0-8cf2c9f4d198"
      },
      "outputs": [
        {
          "output_type": "stream",
          "name": "stdout",
          "text": [
            "178 utenti, 3384 prodotti\n"
          ]
        }
      ],
      "source": [
        "n_users = len(users)\n",
        "n_items = len(items)\n",
        "print(f\"{n_users} utenti, {n_items} prodotti\")"
      ]
    },
    {
      "cell_type": "markdown",
      "id": "657b80b9",
      "metadata": {
        "id": "657b80b9"
      },
      "source": [
        "- Creiamo ora la matrice `purchases` inizializzando tutti i valori a 0, ovvero senza alcun acquisto\n",
        "- Usiamo per questo la funzione `zeros` passando la forma desiderata della matrice\n",
        "- Dato che la matrice conterrà solo valori interi (0 e 1), specifichiamo `int` come datatype\n",
        "  - `int` verrà convertito ad un dtype con una precisione specifica, es. `int64`"
      ]
    },
    {
      "cell_type": "code",
      "execution_count": 20,
      "id": "e3244100",
      "metadata": {
        "id": "e3244100"
      },
      "outputs": [],
      "source": [
        "purchases = np.zeros((n_users, n_items), dtype=int)"
      ]
    },
    {
      "cell_type": "markdown",
      "id": "948b835f",
      "metadata": {
        "id": "948b835f"
      },
      "source": [
        "### Esercizio 1: Scrittura acquisti nella matrice\n",
        "\n",
        "- Per ottenere la matrice degli acquisti effettiva, impostare a 1 gli elementi corrispondenti alle coppie utente-oggetto nell'insieme `purchases_set`\n",
        "  - usare opportunamente i dizionari `user_indices` e `item_indices` creati sopra\n",
        "  - per impostare un valore nella matrice:  \n",
        "    `matrice[indice_riga, indice_colonna] = valore`"
      ]
    },
    {
      "cell_type": "markdown",
      "id": "df7adaa4",
      "metadata": {
        "id": "df7adaa4"
      },
      "source": [
        "- Visualizziamo una porzione della matrice ottenuta..."
      ]
    },
    {
      "cell_type": "code",
      "source": [
        "purchases[-2,-2]=0"
      ],
      "metadata": {
        "id": "yhof3ITDZgLc"
      },
      "id": "yhof3ITDZgLc",
      "execution_count": 35,
      "outputs": []
    },
    {
      "cell_type": "code",
      "source": [
        "for (uid, iid) in purchases_set:\n",
        "  purchases[user_indices[uid], item_indices[iid]] = 1\n"
      ],
      "metadata": {
        "id": "sf7GysXRZRFt"
      },
      "id": "sf7GysXRZRFt",
      "execution_count": 36,
      "outputs": []
    },
    {
      "cell_type": "code",
      "execution_count": 37,
      "id": "187f677d",
      "metadata": {
        "colab": {
          "base_uri": "https://localhost:8080/"
        },
        "id": "187f677d",
        "outputId": "3590ed7b-e7f0-44b6-b9a6-67b1a6d772f0"
      },
      "outputs": [
        {
          "output_type": "execute_result",
          "data": {
            "text/plain": [
              "array([[0, 0, 0, 0, 0, 0, 0, 0, 0, 0, 0, 0, 0, 0, 0],\n",
              "       [0, 0, 0, 0, 0, 0, 0, 0, 0, 0, 1, 0, 0, 0, 0],\n",
              "       [0, 0, 0, 0, 0, 0, 0, 0, 0, 0, 0, 0, 0, 0, 0],\n",
              "       [0, 0, 0, 0, 0, 0, 0, 0, 0, 0, 0, 1, 1, 0, 0],\n",
              "       [0, 0, 0, 0, 0, 0, 0, 0, 0, 0, 0, 0, 0, 0, 0]])"
            ]
          },
          "metadata": {},
          "execution_count": 37
        }
      ],
      "source": [
        "purchases[-5:, :15]   # ultime 5 righe, prime 15 colonne"
      ]
    },
    {
      "cell_type": "markdown",
      "id": "01e06b93",
      "metadata": {
        "id": "01e06b93"
      },
      "source": [
        "- Vediamo ad esempio che l'utente della penultima riga ha acquistato i prodotti di indice 11 e 12"
      ]
    },
    {
      "cell_type": "markdown",
      "id": "f6015175",
      "metadata": {
        "id": "f6015175"
      },
      "source": [
        "### Array booleani\n",
        "\n",
        "- Oltre agli array numerici, NumPy supporta array booleani, contenenti valori `False` e `True`\n",
        "- Abbiamo rappresentato `purchases` con valori 0 e 1 perché è una notazione comune, ma può essere rappresentata anche come array booleano\n",
        "- Usiamo il metodo `astype` per ottenere una copia della matrice convertendone il datatype\n",
        "  - viene seguita la convenzione di Python per cui 0 diventa `False` e ogni altro numero `True`"
      ]
    },
    {
      "cell_type": "code",
      "execution_count": 38,
      "id": "93f6388a",
      "metadata": {
        "id": "93f6388a"
      },
      "outputs": [],
      "source": [
        "purchases_bool = purchases.astype(bool)"
      ]
    },
    {
      "cell_type": "markdown",
      "id": "e56b14fd",
      "metadata": {
        "id": "e56b14fd"
      },
      "source": [
        "- Otteniamo una matrice con 0 e 1 convertiti rispettivamente in `False` e `True`"
      ]
    },
    {
      "cell_type": "code",
      "execution_count": 39,
      "id": "1d58a845",
      "metadata": {
        "colab": {
          "base_uri": "https://localhost:8080/"
        },
        "id": "1d58a845",
        "outputId": "792e8e5b-e450-4a9e-acc1-4a2132d2df0d"
      },
      "outputs": [
        {
          "output_type": "execute_result",
          "data": {
            "text/plain": [
              "array([[False, False, False, False, False, False, False, False, False,\n",
              "        False, False, False, False, False, False],\n",
              "       [False, False, False, False, False, False, False, False, False,\n",
              "        False,  True, False, False, False, False],\n",
              "       [False, False, False, False, False, False, False, False, False,\n",
              "        False, False, False, False, False, False],\n",
              "       [False, False, False, False, False, False, False, False, False,\n",
              "        False, False,  True,  True, False, False],\n",
              "       [False, False, False, False, False, False, False, False, False,\n",
              "        False, False, False, False, False, False]])"
            ]
          },
          "metadata": {},
          "execution_count": 39
        }
      ],
      "source": [
        "purchases_bool[-5:, :15]   # ultime 5 righe, prime 15 colonne"
      ]
    },
    {
      "cell_type": "markdown",
      "id": "a644c471",
      "metadata": {
        "id": "a644c471"
      },
      "source": [
        "- Questa versione booleana della matrice ci servirà per alcune operazioni"
      ]
    },
    {
      "cell_type": "markdown",
      "id": "c0b3f217",
      "metadata": {
        "id": "c0b3f217"
      },
      "source": [
        "## Associare nomi a righe e colonne\n",
        "\n",
        "- I dizionari `*_indices` permettono, dato l'ID di un utente o prodotto, di risalire alla riga o colonna corrispondente della matrice\n",
        "- Creiamo ora un vettore `user_names` che contenga i nomi degli utenti nelle posizioni corrispondenti alle righe della matrice\n",
        "- Allochiamo un vettore vuoto con lunghezza pari al numero di utenti e tipo di elementi `object`, ovvero oggetti Python arbitrari\n",
        "  - `n_users` (valore singolo) equivale a `(n_users, )` (tupla di un elemento, quindi vettore)"
      ]
    },
    {
      "cell_type": "code",
      "execution_count": 40,
      "id": "ec62594c",
      "metadata": {
        "id": "ec62594c"
      },
      "outputs": [],
      "source": [
        "user_names = np.empty(n_users, dtype=object)"
      ]
    },
    {
      "cell_type": "markdown",
      "id": "1c4bcdbe",
      "metadata": {
        "id": "1c4bcdbe"
      },
      "source": [
        "### Esercizio 2: Creazione vettori nomi\n",
        "\n",
        "- **(2a)** Riempire il vettore `user_names` con i nomi degli utenti corrispondenti alle righe di `purchases`\n",
        "  - usare i dizionari `users` e `user_indices`\n",
        "- **(2b)** Creare e riempire in modo simile un vettore `item_names` con i nomi degli oggetti corrispondenti alle colonne di `purchases`"
      ]
    },
    {
      "cell_type": "code",
      "source": [
        "# for uid, index in user_indices.items(): # senza .items() non funziona\n",
        "#   user_names[index] = (uid, users[uid])"
      ],
      "metadata": {
        "id": "EnyrxpR1dMJU"
      },
      "id": "EnyrxpR1dMJU",
      "execution_count": 51,
      "outputs": []
    },
    {
      "cell_type": "code",
      "source": [
        "# SOLUZIONE\n",
        "for uid, name in users.items():\n",
        "  index = user_indices[uid]\n",
        "  user_names[index] = name\n",
        "\n",
        "item_names = np.empty(n_items, dtype = object)\n",
        "for iid, name in items.items():\n",
        "  index = item_indices[iid]\n",
        "  item_names[index] = name"
      ],
      "metadata": {
        "id": "_7sHsx1xdqAq"
      },
      "id": "_7sHsx1xdqAq",
      "execution_count": 56,
      "outputs": []
    },
    {
      "cell_type": "code",
      "source": [
        "user_names"
      ],
      "metadata": {
        "colab": {
          "base_uri": "https://localhost:8080/"
        },
        "id": "SyV5OHCgdxey",
        "outputId": "b604e099-6c15-4c74-9a99-398084a075c6"
      },
      "id": "SyV5OHCgdxey",
      "execution_count": 55,
      "outputs": [
        {
          "output_type": "execute_result",
          "data": {
            "text/plain": [
              "array(['malachix', 'Kevin Alphonso', 'tropic_of_criticism',\n",
              "       'Joe Owen \"Joe\"', 'Zane', 'David Robson', 'Alan R. Holyoak',\n",
              "       'Mr N Forbes-warren \"author of RESURGENCE and ...',\n",
              "       'Jacques COULARDEAU \"A soul doctor, so to say\"',\n",
              "       'Martin Turner \"book reviewer\"', 'brent been',\n",
              "       'dsrussell \"greyhater\"', 'juno2', 'MOVIE_NUT74@HOTMAIL.COM',\n",
              "       'laddie5', 'Studebaker Hoch, billythemtn@geocities.com',\n",
              "       'LUCIEN LESSARD', 'Michael J. Berquist',\n",
              "       'behet@stud.uni-frankfurt.de', 'Alex Udvary', 'flickjunkie',\n",
              "       'Sean Ares Hirsch', 'lecorel@hotmail.com', 'zara_azari',\n",
              "       'yygsgsdrassil \"yygsgsdrassil\"', 'Vincent Tesi \"Vinny\"',\n",
              "       'NEO-CS- \"Cyber Soldier\"', 'Dustin J. Hetke', 'Scott T. Rivers',\n",
              "       'Aaron Amos', 'jakelamotta', 'A. Andersen', 'snlkidsinhall',\n",
              "       'S. Schell', 'Dennis Littrell', 'N. Schoenfeld', 'R. Penola',\n",
              "       'Hayley', 'Seifer', 'Mark Twain \"Sam\"', 'Sam Damon Jr.',\n",
              "       'Dennis A. Amith (kndy)', 'carolyn5000', 'scotsladdie',\n",
              "       'Victor Drysel', 'thomas angelo zunich', 'M.M. \"Muppet Fan\"',\n",
              "       'Becky', 'Daisy Ghostly', 'movie_freak', 'Daniel S. \"Daniel\"',\n",
              "       'James Day', 'patrick peralta', 'Linda Linguvic', 'chad edwards',\n",
              "       'daniel', 'Dianne Foster \"Di\"', 'skipmccoy', 'Tasha D. Staggers',\n",
              "       'Ross McKenzie \"ross\"', 'TheIrrationalMan',\n",
              "       'Long Island, East, member', 'Bob Waskiewicz',\n",
              "       'Michael Daly \"Monkeesfan\"', 'gastoryrguffa', 'masonx',\n",
              "       'urbanlegend23', 'pitchoun', 'Robert S. Clay Jr.',\n",
              "       'Armando M. Mesa', 'Matt Howe \"outloud98\"', 'Candace Scott',\n",
              "       'charles pope', 'ianphillips@uk.dreamcast.com',\n",
              "       'Tim Lieder \"Founder of Dybbuk Press\"', 'gotstuff', 'amazon__18',\n",
              "       'Barron Laycock \"Labradorman\"', 'AJ \"AJ\"', 'Banshee \"Beeyotch\"',\n",
              "       'Gergellor', 'John A. Kuczma \"RogueUlfric\"', 'donnee',\n",
              "       'Bhanu Dhir \"bnu3358@aol.com\"', 'Anthony Hinde', 'Sam Bethune',\n",
              "       'Roland E. Zwick', 'Thomas Kearney', 'D. Mok', 'D. Litton',\n",
              "       'Mark A Jamison', 'J. Brittman \"The Bottom Line\"',\n",
              "       'Lawrance M. Bernabo', 'CaptHowdy \"Tell us about yourself!\"',\n",
              "       'Luis Hernandez', 'Justin', 'frisky2000', 'Sean Patterson', 'Orff',\n",
              "       'Sandra L. Rigas', 'Melvin Hunt', 'kaijuking54', 'Mike Stone',\n",
              "       'Rosemary Thornton \"Niece of Murder Victim, Ad...',\n",
              "       'Gus Mauro \"coolbrezze\"', 'Ryan Costantino', 'Mr. A. Pomeroy',\n",
              "       'Ed N \"Ed\"', 'The Bluto \"adncjs3\"', 'gobirds2', 'Bjorn Clasen',\n",
              "       'Mike Freed', 'carol irvin \"carol irvin\"', 'Steve',\n",
              "       'Darragh Murray', 'Nigel D.', 'KO Smith', 'R. G. Myers',\n",
              "       'C. Manson', 'Mark McKinney', 'Ben Elliss', 'PATHERSON',\n",
              "       'tee-vee-stevie', 'Mitchell R. Alegre', 'Robert Blake',\n",
              "       'Alexander Suraev', 'Alejandra Vernon \"artist & illustrator\"',\n",
              "       'J. R. Reynolds', 'Mr. Cairene', 'Johnny S Geddes \"OC\"',\n",
              "       'YVETTE MOHILL \"teefus\"', 'Shelley Gammon \"Geek\"',\n",
              "       'Eric James Cooper \"ejames43\"', 'dude', 'casualsuede',\n",
              "       'frankenberry', 'mistermaxxx08 \"mistermaxxx08\"',\n",
              "       'Golden Girls fan \"Adam\"', 'P. Ferrigno \"firehouse444\"',\n",
              "       'David Bonesteel', 'Michael Dyckman',\n",
              "       'Robert Beveridge \"xterminal\"', 'Daniel B. Waldman \"Film Guru\"',\n",
              "       'rhino86oo', 'Todd Gray', 'M. Fonseca \"carmarthen\"',\n",
              "       'Anthony Damato \"Law professor\"', 'thecynicalcritic',\n",
              "       'Eat The Rich Books', 'D. Wetzel', 'Neural Clone \"zarran67\"',\n",
              "       'CHI-TOWN', 'James L.', 'Bertin Ramirez \"justareviewer\"',\n",
              "       'David Rogers', 'unhelpful', 'crazylil_partygurl', 'moviefreak',\n",
              "       'walter  flakus', 'Bradley Tobin', 'Bruce Lee Pullen', 'Reviewer',\n",
              "       'Babushka \"pd69bq\"', 'John', 'bernie \"xyzzy\"', 'clanwolf@clds.net',\n",
              "       'John K. Reed', 'John Noodles', 'Nathan', 'Brooke276',\n",
              "       'Aaron Newlands \"Sithgod\"', 'sauerkraut', 'hockhamb@hotmail.com',\n",
              "       'Inspector Gadget \"Go Go Gadget Reviews\"', 'Benjamin J Burgraff',\n",
              "       'Reginald D. Garrard \"the G-man\"', 'G.Spider', 'Christopher Ware'],\n",
              "      dtype=object)"
            ]
          },
          "metadata": {},
          "execution_count": 55
        }
      ]
    },
    {
      "cell_type": "markdown",
      "id": "c6c647ed",
      "metadata": {
        "id": "c6c647ed"
      },
      "source": [
        "- Possiamo così ottenere il nomi di un singolo utente o prodotto data la riga o colonna"
      ]
    },
    {
      "cell_type": "code",
      "execution_count": 57,
      "id": "055fdd45",
      "metadata": {
        "colab": {
          "base_uri": "https://localhost:8080/",
          "height": 35
        },
        "id": "055fdd45",
        "outputId": "d016d355-2011-428e-db5c-9f1db2e9fe0f"
      },
      "outputs": [
        {
          "output_type": "execute_result",
          "data": {
            "text/plain": [
              "'Doctor Who - Robot [VHS]'"
            ],
            "application/vnd.google.colaboratory.intrinsic+json": {
              "type": "string"
            }
          },
          "metadata": {},
          "execution_count": 57
        }
      ],
      "source": [
        "item_names[11]"
      ]
    },
    {
      "cell_type": "markdown",
      "id": "b74828c1",
      "metadata": {
        "id": "b74828c1"
      },
      "source": [
        "- In più, rispetto alle liste di Python, possiamo estrarre molteplici valori dal vettore passando una **lista di indici**"
      ]
    },
    {
      "cell_type": "code",
      "execution_count": null,
      "id": "eedbf3d1",
      "metadata": {
        "id": "eedbf3d1",
        "outputId": "00d014c4-2f4b-4e8e-d77b-ab47c513bfcf"
      },
      "outputs": [
        {
          "data": {
            "text/plain": [
              "array(['Star Wars - Episode IV, A New Hope [VHS]',\n",
              "       'Star Wars - Episode V, The Empire Strikes Back [VHS]',\n",
              "       'Star Wars - Episode VI, Return of the Jedi [VHS]'], dtype=object)"
            ]
          },
          "execution_count": 21,
          "metadata": {},
          "output_type": "execute_result"
        }
      ],
      "source": [
        "item_names[[3112, 1417, 3109]]"
      ]
    },
    {
      "cell_type": "markdown",
      "id": "8ee5de1a",
      "metadata": {
        "id": "8ee5de1a"
      },
      "source": [
        "## Selezione elementi tramite array booleani\n",
        "\n",
        "- Possiamo usare l'**indicizzazione booleana** per estrarre elementi che corrispondano ad una condizione\n",
        "- Consideriamo ad esempio la riga 176 della matrice, che indica gli acquisti dell'utente..."
      ]
    },
    {
      "cell_type": "code",
      "execution_count": null,
      "id": "37d47984",
      "metadata": {
        "id": "37d47984",
        "outputId": "8c1c9b61-c813-43de-b933-50460920ab12"
      },
      "outputs": [
        {
          "data": {
            "text/plain": [
              "'G.Spider'"
            ]
          },
          "execution_count": 22,
          "metadata": {},
          "output_type": "execute_result"
        }
      ],
      "source": [
        "user_names[176]"
      ]
    },
    {
      "cell_type": "markdown",
      "id": "25cc1928",
      "metadata": {
        "id": "25cc1928"
      },
      "source": [
        "- Estraiamo la riga corrispondente dalla matrice `purchases_bool` per ottenere un vettore in forma booleana\n",
        "  - `[176, :]` si può abbreviare in `[176]`\n",
        "  - essendo una singola riga di una matrice, otteniamo un vettore"
      ]
    },
    {
      "cell_type": "code",
      "execution_count": null,
      "id": "21ebead2",
      "metadata": {
        "id": "21ebead2",
        "outputId": "6d7e3231-1377-438c-ef53-0c2fe850370a"
      },
      "outputs": [
        {
          "data": {
            "text/plain": [
              "array([False, False, False, False, False, False, False, False, False,\n",
              "       False, False,  True,  True, False, False, False, False, False,\n",
              "       False, False])"
            ]
          },
          "execution_count": 23,
          "metadata": {},
          "output_type": "execute_result"
        }
      ],
      "source": [
        "purchased_by_user_176 = purchases_bool[176, :]\n",
        "\n",
        "# visualizzo i primi 20 valori\n",
        "purchased_by_user_176[:20]"
      ]
    },
    {
      "cell_type": "markdown",
      "id": "9fde3922",
      "metadata": {
        "id": "9fde3922"
      },
      "source": [
        "- Possiamo usare questo vettore come selettore del vettore `item_names` per estrarre i soli valori di `item_names` corrispondenti a valori `True`\n",
        "- In questo modo otteniamo un vettore con i **nomi** dei soli prodotti **acquistati dall'utente**"
      ]
    },
    {
      "cell_type": "code",
      "execution_count": null,
      "id": "a7bd35a5",
      "metadata": {
        "id": "a7bd35a5",
        "outputId": "09c7dfe3-8161-4f3e-c8de-efd24fe77779"
      },
      "outputs": [
        {
          "data": {
            "text/plain": [
              "array(['Doctor Who - Robot [VHS]', 'Doctor Who - City of Death [VHS]',\n",
              "       'Doctor Who: The Curse of Peladon [VHS]',\n",
              "       'Doctor Who:  Time and The Rani [VHS]',\n",
              "       'Doctor Who - Ghost Light [VHS]',\n",
              "       'Doctor Who - The Visitation / Black Orchid [VHS]',\n",
              "       'Doctor Who - Kinda [VHS]',\n",
              "       'Doctor Who - The Mark of the Rani [VHS]',\n",
              "       'Doctor Who - The Leisure Hive [VHS]',\n",
              "       'Star Wars - Episode I, The Phantom Menace [VHS]'], dtype=object)"
            ]
          },
          "execution_count": 24,
          "metadata": {},
          "output_type": "execute_result"
        }
      ],
      "source": [
        "item_names_purchased_by_user_176 = item_names[purchased_by_user_176]\n",
        "\n",
        "# visualizzo i primi 10 elementi\n",
        "item_names_purchased_by_user_176[:10]"
      ]
    },
    {
      "cell_type": "markdown",
      "id": "388d85c2",
      "metadata": {
        "id": "388d85c2"
      },
      "source": [
        "- Si noti che per questa selezione è necessario usare l'array booleano, usando quello binario si ha un risultato errato"
      ]
    },
    {
      "cell_type": "code",
      "execution_count": null,
      "id": "73bc2d96",
      "metadata": {
        "id": "73bc2d96",
        "outputId": "36ad92d2-5c26-4d9b-c7f1-3ed85c2c2fae"
      },
      "outputs": [
        {
          "data": {
            "text/plain": [
              "array(['Age of Innocence [VHS]', 'Age of Innocence [VHS]',\n",
              "       'Age of Innocence [VHS]', ..., 'Age of Innocence [VHS]',\n",
              "       'Age of Innocence [VHS]', 'Age of Innocence [VHS]'], dtype=object)"
            ]
          },
          "execution_count": 25,
          "metadata": {},
          "output_type": "execute_result"
        }
      ],
      "source": [
        "item_names[purchases[176, :]]"
      ]
    },
    {
      "cell_type": "markdown",
      "id": "7ea6424e",
      "metadata": {
        "id": "7ea6424e"
      },
      "source": [
        "## Statistiche sugli acquisti\n",
        "\n",
        "- Gli array forniscono metodi per calcolare valori aggregati: somma, media, min/max, ecc.\n",
        "- Ad esempio il metodo `sum` calcola la somma di tutti gli elementi di un array\n",
        "- Possiamo utilizzarlo per ottenere il numero totale di acquisti analizzati"
      ]
    },
    {
      "cell_type": "code",
      "execution_count": null,
      "id": "a676c284",
      "metadata": {
        "id": "a676c284",
        "outputId": "5cb206ea-4ec8-4194-eca5-9c93b61dc51a"
      },
      "outputs": [
        {
          "data": {
            "text/plain": [
              "9683"
            ]
          },
          "execution_count": 26,
          "metadata": {},
          "output_type": "execute_result"
        }
      ],
      "source": [
        "purchases.sum()"
      ]
    },
    {
      "cell_type": "markdown",
      "id": "31a3c28a",
      "metadata": {
        "id": "31a3c28a"
      },
      "source": [
        "- Posso ottenere lo stesso risultato effettuando la somma sulla matrice booleana (perché trattati come numeri `False` e `True` valgono 0 e 1 rispettivamente)\n",
        "  - in generale, `sum` può essere usato per contare i valori `True` in un array booleano"
      ]
    },
    {
      "cell_type": "code",
      "execution_count": null,
      "id": "9bd6fa9b",
      "metadata": {
        "id": "9bd6fa9b",
        "outputId": "3da334f9-66f4-4273-87ba-d76a20f6b974"
      },
      "outputs": [
        {
          "data": {
            "text/plain": [
              "9683"
            ]
          },
          "execution_count": 27,
          "metadata": {},
          "output_type": "execute_result"
        }
      ],
      "source": [
        "purchases_bool.sum()"
      ]
    },
    {
      "cell_type": "markdown",
      "id": "0aa3737a",
      "metadata": {
        "id": "0aa3737a"
      },
      "source": [
        "- Oltre ad aggregare tutti i valori, possiamo compiere aggregazioni per righe (asse 0) o per colonne (asse 1)\n",
        "- Applichiamo la somma per righe e per colonne alla matrice degli acquisti\n",
        "  - `sum(1)` -> sommo tra loro le colonne -> ottengo il numero di prodotti acquistati per ogni utente\n",
        "  - `sum(0)` -> sommo tra loro le righe -> ottengo il numero di utenti che hanno acquistato ciascun prodotto"
      ]
    },
    {
      "cell_type": "code",
      "execution_count": 65,
      "id": "0c843511",
      "metadata": {
        "id": "0c843511"
      },
      "outputs": [],
      "source": [
        "user_purchases = purchases.sum(1) # Sommo lungo le colonne (utenti)\n",
        "item_purchases = purchases.sum(0) # Sommo lungo le righe (oggetti)"
      ]
    },
    {
      "cell_type": "code",
      "execution_count": null,
      "id": "4aed9423",
      "metadata": {
        "id": "4aed9423",
        "outputId": "fb7b56ab-d6b2-4f66-cbf8-5844750a3050"
      },
      "outputs": [
        {
          "data": {
            "text/plain": [
              "array([38, 32, 50, 41, 34, 47, 72, 40, 33, 51])"
            ]
          },
          "execution_count": 29,
          "metadata": {},
          "output_type": "execute_result"
        }
      ],
      "source": [
        "# numero di acquisti dei primi 10 clienti\n",
        "user_purchases[:10]"
      ]
    },
    {
      "cell_type": "code",
      "execution_count": null,
      "id": "0d7b2071",
      "metadata": {
        "id": "0d7b2071",
        "outputId": "ea230f28-9504-48bd-b780-758867ce863c"
      },
      "outputs": [
        {
          "data": {
            "text/plain": [
              "array([1, 2, 1, 4, 1, 1, 1, 1, 1, 2])"
            ]
          },
          "execution_count": 30,
          "metadata": {},
          "output_type": "execute_result"
        }
      ],
      "source": [
        "# numero di clienti che hanno acquistato i primi 10 oggetti\n",
        "item_purchases[:10]"
      ]
    },
    {
      "cell_type": "markdown",
      "id": "9592f7b5",
      "metadata": {
        "id": "9592f7b5"
      },
      "source": [
        "Oltre a `sum` si ricordano tra i metodi più comuni\n",
        "- `mean` per la media\n",
        "- `min` e `max` per ottenere **i valori** minimo e massimo dell'array\n",
        "- `argmin` e `argmax` per ottenere **gli indici** all'interno di un vettore del valori minimo e massimo\n",
        "\n",
        "Nota: per ognuno di questi metodi, ad es. `X.sum()`, esiste una funzione equivalente `np.sum(X)` che si può applicare anche ad oggetti \"array-like\", ad es. le normali `list` di Python"
      ]
    },
    {
      "cell_type": "code",
      "execution_count": 58,
      "id": "7ad23b2c",
      "metadata": {
        "colab": {
          "base_uri": "https://localhost:8080/"
        },
        "id": "7ad23b2c",
        "outputId": "4623532f-6493-4cd6-8a80-d40ca3b23811"
      },
      "outputs": [
        {
          "output_type": "execute_result",
          "data": {
            "text/plain": [
              "6"
            ]
          },
          "metadata": {},
          "execution_count": 58
        }
      ],
      "source": [
        "np.sum( np.array([1, 2, 3]) )"
      ]
    },
    {
      "cell_type": "code",
      "execution_count": null,
      "id": "e027a5c3",
      "metadata": {
        "id": "e027a5c3",
        "outputId": "c3a65fb6-a524-41b6-f876-0b642953da76"
      },
      "outputs": [
        {
          "data": {
            "text/plain": [
              "6"
            ]
          },
          "execution_count": 32,
          "metadata": {},
          "output_type": "execute_result"
        }
      ],
      "source": [
        "np.sum([1, 2, 3])"
      ]
    },
    {
      "cell_type": "markdown",
      "id": "3d78d27a",
      "metadata": {
        "id": "3d78d27a"
      },
      "source": [
        "### Esercizio 3: Estrazione informazioni dai vettori\n",
        "\n",
        "Utilizzando i vettori `user_purchases`, `item_purchases`, `user_names` e `item_names` ricavare:\n",
        "- **(3a)** il numero di acquisti medio per ogni utente\n",
        "- **(3b)** il numero di acquisti del prodotto più acquistato\n",
        "- **(3c)** il nome dell'utente che ha effettuato più acquisti\n",
        "- **(3d)** il numero di utenti che hanno acquistato almeno 50 prodotti\n",
        "- **(3e)** i nomi dei prodotti acquistati da almeno 35 utenti"
      ]
    },
    {
      "cell_type": "code",
      "source": [
        "# 3a\n",
        "purchases.sum(1).mean()"
      ],
      "metadata": {
        "colab": {
          "base_uri": "https://localhost:8080/"
        },
        "id": "ejw0J70hioCy",
        "outputId": "45655bf0-9ece-4de3-a07c-e271d45b285c"
      },
      "id": "ejw0J70hioCy",
      "execution_count": 59,
      "outputs": [
        {
          "output_type": "execute_result",
          "data": {
            "text/plain": [
              "54.39887640449438"
            ]
          },
          "metadata": {},
          "execution_count": 59
        }
      ]
    },
    {
      "cell_type": "code",
      "source": [
        "# 3b\n",
        "purchases.sum(0).max()"
      ],
      "metadata": {
        "colab": {
          "base_uri": "https://localhost:8080/"
        },
        "id": "bNcID3IAi1Hx",
        "outputId": "515dceb7-fb89-47e9-be8e-e8911672e402"
      },
      "id": "bNcID3IAi1Hx",
      "execution_count": 60,
      "outputs": [
        {
          "output_type": "execute_result",
          "data": {
            "text/plain": [
              "50"
            ]
          },
          "metadata": {},
          "execution_count": 60
        }
      ]
    },
    {
      "cell_type": "code",
      "source": [
        "# 3c\n",
        "# purchases.sum(1).max()\n",
        "\n",
        "# SOLUZIONE\n",
        "user_names[user_purchases.argmax()]"
      ],
      "metadata": {
        "colab": {
          "base_uri": "https://localhost:8080/",
          "height": 35
        },
        "id": "HplntDjli82Q",
        "outputId": "54403952-66d5-45fb-cfc6-0a2273c65db7"
      },
      "id": "HplntDjli82Q",
      "execution_count": 68,
      "outputs": [
        {
          "output_type": "execute_result",
          "data": {
            "text/plain": [
              "'Bertin Ramirez \"justareviewer\"'"
            ],
            "application/vnd.google.colaboratory.intrinsic+json": {
              "type": "string"
            }
          },
          "metadata": {},
          "execution_count": 68
        }
      ]
    },
    {
      "cell_type": "code",
      "source": [
        "# len(list(filter(lambda x: x >= 50, purchases.sum(1))))\n",
        "\n",
        "# SOLUZIONE\n",
        "(user_purchases >= 50).sum()"
      ],
      "metadata": {
        "colab": {
          "base_uri": "https://localhost:8080/"
        },
        "id": "GO5evKPUjC16",
        "outputId": "964a4b7d-1c3c-4dee-e1b7-25bab7cac66a"
      },
      "id": "GO5evKPUjC16",
      "execution_count": 72,
      "outputs": [
        {
          "output_type": "execute_result",
          "data": {
            "text/plain": [
              "68"
            ]
          },
          "metadata": {},
          "execution_count": 72
        }
      ]
    },
    {
      "cell_type": "code",
      "source": [
        "# SOLUZIONE\n",
        "# Cosa mi interessa? un nome da item_names ==>   item_names[]\n",
        "# Come filtro i dati? ==> uso semplicemente l'espressione di filtro\n",
        "item_names[item_purchases >= 35]"
      ],
      "metadata": {
        "colab": {
          "base_uri": "https://localhost:8080/"
        },
        "id": "3tppze_SjSR8",
        "outputId": "36973fbf-bb92-4c96-cf6d-b5329343179b"
      },
      "id": "3tppze_SjSR8",
      "execution_count": 77,
      "outputs": [
        {
          "output_type": "execute_result",
          "data": {
            "text/plain": [
              "array(['Star Wars - Episode I, The Phantom Menace [VHS]', 'The Matrix',\n",
              "       'Sleepy Hollow', 'Curse of the Blair Witch [VHS]',\n",
              "       'The Sixth Sense [VHS]'], dtype=object)"
            ]
          },
          "metadata": {},
          "execution_count": 77
        }
      ]
    },
    {
      "cell_type": "markdown",
      "id": "8a9c6f29",
      "metadata": {
        "id": "8a9c6f29"
      },
      "source": [
        "## Similarità tra utenti\n",
        "\n",
        "- Misuriamo la similarità tra due utenti come il numero di **prodotti distinti acquistati da entrambi**\n",
        "- Rappresentando i dati in insiemi Python, abbiamo usato intersezioni tra gli insiemi di prodotti acquistati\n",
        "- Avendo un vettore (riga della matrice) booleano per ogni utente, possiamo trovare quali sono gli acquisti comuni tra due utenti tramite l'AND elemento per elemento\n",
        "- Estraiamo ad esempio gli acquisti comuni tra i primi due utenti nella matrice"
      ]
    },
    {
      "cell_type": "code",
      "execution_count": null,
      "id": "10168c01",
      "metadata": {
        "id": "10168c01"
      },
      "outputs": [],
      "source": [
        "common_purchases_0_1 = purchases_bool[0] & purchases_bool[1]"
      ]
    },
    {
      "cell_type": "code",
      "execution_count": null,
      "id": "ecc86ab1",
      "metadata": {
        "id": "ecc86ab1",
        "outputId": "79b1a8c0-336b-45f7-f06b-adf27090c1b0"
      },
      "outputs": [
        {
          "data": {
            "text/plain": [
              "array([False, False, False, ..., False, False, False])"
            ]
          },
          "execution_count": 40,
          "metadata": {},
          "output_type": "execute_result"
        }
      ],
      "source": [
        "common_purchases_0_1"
      ]
    },
    {
      "cell_type": "markdown",
      "id": "38000123",
      "metadata": {
        "id": "38000123"
      },
      "source": [
        "- Nella rappresentazione binaria (0 e 1), questo corrisponde alla moltiplicazione elemento per elemento\n",
        "  - il prodotto elemento per elemento è 1 solo dove in entrambi i vettori c'è 1, altrimenti è 0"
      ]
    },
    {
      "cell_type": "code",
      "execution_count": null,
      "id": "61a37ac3",
      "metadata": {
        "id": "61a37ac3"
      },
      "outputs": [],
      "source": [
        "common_purchases_0_1 = purchases[0] * purchases[1]"
      ]
    },
    {
      "cell_type": "code",
      "execution_count": null,
      "id": "c83c4da3",
      "metadata": {
        "id": "c83c4da3",
        "outputId": "71c08b52-d844-4d32-f019-7d3abbf46d59"
      },
      "outputs": [
        {
          "data": {
            "text/plain": [
              "array([0, 0, 0, ..., 0, 0, 0])"
            ]
          },
          "execution_count": 42,
          "metadata": {},
          "output_type": "execute_result"
        }
      ],
      "source": [
        "common_purchases_0_1"
      ]
    },
    {
      "cell_type": "markdown",
      "id": "4e09c9bb",
      "metadata": {
        "id": "4e09c9bb"
      },
      "source": [
        "- Per sapere quanti sono i prodotti acquistati in comune posso contare i `True` o gli 1 nell'array col metodo `sum`"
      ]
    },
    {
      "cell_type": "code",
      "execution_count": null,
      "id": "dce56a88",
      "metadata": {
        "id": "dce56a88",
        "outputId": "0c2b67d1-9e33-4a84-d528-5828d63fd025"
      },
      "outputs": [
        {
          "data": {
            "text/plain": [
              "4"
            ]
          },
          "execution_count": 43,
          "metadata": {},
          "output_type": "execute_result"
        }
      ],
      "source": [
        "common_purchases_0_1.sum()"
      ]
    },
    {
      "cell_type": "markdown",
      "id": "b8f7f5f8",
      "metadata": {
        "id": "b8f7f5f8"
      },
      "source": [
        "- Il numero di prodotti acquistati in comune è quindi pari alla somma dei prodotti tra le corrispondenti righe della matrice"
      ]
    },
    {
      "cell_type": "code",
      "execution_count": null,
      "id": "25ce493b",
      "metadata": {
        "id": "25ce493b",
        "outputId": "34b3acf1-7e1d-402b-9217-e67e4a600a58"
      },
      "outputs": [
        {
          "data": {
            "text/plain": [
              "4"
            ]
          },
          "execution_count": 44,
          "metadata": {},
          "output_type": "execute_result"
        }
      ],
      "source": [
        "np.sum( purchases[0] * purchases[1] )"
      ]
    },
    {
      "cell_type": "markdown",
      "id": "8fb69cc9",
      "metadata": {
        "id": "8fb69cc9"
      },
      "source": [
        "- Questo corrisponde al **prodotto scalare** (_dot product_) tra le due righe, che può essere estratto efficientemente con la funzione `dot`, il metodo `dot` o l'operatore `@`"
      ]
    },
    {
      "cell_type": "code",
      "execution_count": null,
      "id": "cbead39f",
      "metadata": {
        "id": "cbead39f",
        "outputId": "f4882e96-c9ac-4c35-bd51-d96772dfddc9"
      },
      "outputs": [
        {
          "data": {
            "text/plain": [
              "4"
            ]
          },
          "execution_count": 45,
          "metadata": {},
          "output_type": "execute_result"
        }
      ],
      "source": [
        "np.dot(purchases[0], purchases[1])"
      ]
    },
    {
      "cell_type": "code",
      "execution_count": null,
      "id": "1abde042",
      "metadata": {
        "id": "1abde042",
        "outputId": "9bdda88a-71de-498a-b718-ace1076f192c"
      },
      "outputs": [
        {
          "data": {
            "text/plain": [
              "4"
            ]
          },
          "execution_count": 46,
          "metadata": {},
          "output_type": "execute_result"
        }
      ],
      "source": [
        "purchases[0].dot(purchases[1])"
      ]
    },
    {
      "cell_type": "code",
      "execution_count": null,
      "id": "d8bf2be5",
      "metadata": {
        "id": "d8bf2be5",
        "outputId": "e059e35a-65ff-46fd-c3cc-aa6b315dfaf6"
      },
      "outputs": [
        {
          "data": {
            "text/plain": [
              "4"
            ]
          },
          "execution_count": 47,
          "metadata": {},
          "output_type": "execute_result"
        }
      ],
      "source": [
        "purchases[0] @ purchases[1]"
      ]
    },
    {
      "cell_type": "markdown",
      "id": "60da3431",
      "metadata": {
        "id": "60da3431"
      },
      "source": [
        "### Matrice di similarità\n",
        "\n",
        "- Vogliamo ottenere in una matrice `similarity` NxN tutte le similarità reciproche tra gli N utenti, ovvero i prodotti scalari tra tutte le righe di `purchases`\n",
        "\n",
        "```\n",
        "similarity[i, j] == purchases[i, :] @ purchases[j, :]\n",
        "```\n",
        "\n",
        "- Abbiamo visto che il **prodotto tra matrici** restituisce una matrice di prodotti scalari tra le righe di una matrice e le colonne di un'altra\n",
        "\n",
        "```\n",
        "(A @ B)[i, j] == A[i, :] @ B[:, j]\n",
        "```\n",
        "\n",
        "- Se vogliamo calcolare i prodotti tra le righe di A e le righe di B, possiamo calcolare il prodotto tra A e la **trasposta** di B, estraibile con `B.T`\n",
        "\n",
        "```\n",
        "(A @ B.T)[i, j] == A[i, :] @ B[j, :]\n",
        "```\n",
        "\n",
        "- Per ottenere i prodotti scalari tra tutte le righe di `purchases` possiamo quindi **moltiplicarla per la sua trasposta**"
      ]
    },
    {
      "cell_type": "code",
      "execution_count": 78,
      "id": "a3fd3452",
      "metadata": {
        "id": "a3fd3452"
      },
      "outputs": [],
      "source": [
        "similarity = purchases @ purchases.T"
      ]
    },
    {
      "cell_type": "markdown",
      "id": "dcc5f163",
      "metadata": {
        "id": "dcc5f163"
      },
      "source": [
        "- Otteniamo una matrice quadrata, di ordine pari al numero di utenti"
      ]
    },
    {
      "cell_type": "code",
      "execution_count": null,
      "id": "6ed39255",
      "metadata": {
        "id": "6ed39255",
        "outputId": "17d9e84c-1584-4d64-a0ab-27e8be83c997"
      },
      "outputs": [
        {
          "data": {
            "text/plain": [
              "(178, 178)"
            ]
          },
          "execution_count": 49,
          "metadata": {},
          "output_type": "execute_result"
        }
      ],
      "source": [
        "similarity.shape"
      ]
    },
    {
      "cell_type": "markdown",
      "id": "065a513f",
      "metadata": {
        "id": "065a513f"
      },
      "source": [
        "- Visualizziamo un estratto della matrice..."
      ]
    },
    {
      "cell_type": "code",
      "execution_count": null,
      "id": "ed7a3229",
      "metadata": {
        "id": "ed7a3229",
        "outputId": "2cc02a15-8ff5-4fc2-a0a3-7bceebf70649"
      },
      "outputs": [
        {
          "data": {
            "text/plain": [
              "array([[38,  4,  1,  0,  1,  2,  1,  1,  0,  2],\n",
              "       [ 4, 32,  1,  0,  0,  2,  0,  1,  2,  4],\n",
              "       [ 1,  1, 50,  1,  4,  2,  1,  2,  1,  7],\n",
              "       [ 0,  0,  1, 41,  1,  1,  3,  1,  1,  2],\n",
              "       [ 1,  0,  4,  1, 34,  1,  0,  2,  1,  2],\n",
              "       [ 2,  2,  2,  1,  1, 47,  1,  0,  2,  1],\n",
              "       [ 1,  0,  1,  3,  0,  1, 72,  1,  1,  2],\n",
              "       [ 1,  1,  2,  1,  2,  0,  1, 40,  1,  6],\n",
              "       [ 0,  2,  1,  1,  1,  2,  1,  1, 33,  3],\n",
              "       [ 2,  4,  7,  2,  2,  1,  2,  6,  3, 51]])"
            ]
          },
          "execution_count": 50,
          "metadata": {},
          "output_type": "execute_result"
        }
      ],
      "source": [
        "similarity[:10, :10]"
      ]
    },
    {
      "cell_type": "markdown",
      "id": "d1f1bf5e",
      "metadata": {
        "id": "d1f1bf5e"
      },
      "source": [
        "- ...possiamo ad esempio notare che\n",
        "  - tra i primi due utenti ci sono 4 oggetti acquistati in comune (come visto sopra)\n",
        "  - il primo ed il quarto utente non hanno alcun acquisto in comune"
      ]
    },
    {
      "cell_type": "code",
      "execution_count": null,
      "id": "bfbaa718",
      "metadata": {
        "id": "bfbaa718",
        "outputId": "7eade81e-a525-43c5-9611-3efa9efbcf99"
      },
      "outputs": [
        {
          "data": {
            "text/plain": [
              "4"
            ]
          },
          "execution_count": 51,
          "metadata": {},
          "output_type": "execute_result"
        }
      ],
      "source": [
        "similarity[0, 1]"
      ]
    },
    {
      "cell_type": "code",
      "execution_count": null,
      "id": "1530c557",
      "metadata": {
        "id": "1530c557",
        "outputId": "d7003547-8aaa-460c-e50a-2d6bbd4e6999"
      },
      "outputs": [
        {
          "data": {
            "text/plain": [
              "0"
            ]
          },
          "execution_count": 52,
          "metadata": {},
          "output_type": "execute_result"
        }
      ],
      "source": [
        "similarity[0, 3]"
      ]
    },
    {
      "cell_type": "markdown",
      "id": "90eaead3",
      "metadata": {
        "id": "90eaead3"
      },
      "source": [
        "- Possiamo verificare che la matrice sia simmetrica controllando se è uguale alla sua trasposta\n",
        "  - l'operatore `==` applicato tra matrici restituisce una matrice booleana con il confronto elemento per elemento\n",
        "  - usiamo il metodo `all` (o la funzione `np.all`) per verificare che tutti i valori siano `True`"
      ]
    },
    {
      "cell_type": "code",
      "execution_count": null,
      "id": "84785d6f",
      "metadata": {
        "id": "84785d6f",
        "outputId": "a7321e99-437a-4d8a-be31-6e0e45ecd7d6"
      },
      "outputs": [
        {
          "data": {
            "text/plain": [
              "True"
            ]
          },
          "execution_count": 53,
          "metadata": {},
          "output_type": "execute_result"
        }
      ],
      "source": [
        "(similarity == similarity.T).all()"
      ]
    },
    {
      "cell_type": "code",
      "execution_count": null,
      "id": "c9f69b3a",
      "metadata": {
        "id": "c9f69b3a",
        "outputId": "4cf18284-2b1e-46bd-c227-d79af7392a08"
      },
      "outputs": [
        {
          "data": {
            "text/plain": [
              "True"
            ]
          },
          "execution_count": 54,
          "metadata": {},
          "output_type": "execute_result"
        }
      ],
      "source": [
        "np.all(similarity == similarity.T)"
      ]
    },
    {
      "cell_type": "markdown",
      "id": "df1d44de",
      "metadata": {
        "id": "df1d44de"
      },
      "source": [
        "- In alternativa NumPy offre una funzione `array_equal` per verificare l'uguaglianza tra due array\n",
        "  - questa evita errori in caso si comparino array di dimensioni incompatibili"
      ]
    },
    {
      "cell_type": "code",
      "execution_count": null,
      "id": "edecb368",
      "metadata": {
        "id": "edecb368",
        "outputId": "99cdabc2-d0b5-4222-ed17-ad4dd1509380"
      },
      "outputs": [
        {
          "data": {
            "text/plain": [
              "True"
            ]
          },
          "execution_count": 55,
          "metadata": {},
          "output_type": "execute_result"
        }
      ],
      "source": [
        "np.array_equal(similarity, similarity.T)"
      ]
    },
    {
      "cell_type": "markdown",
      "id": "c72b539e",
      "metadata": {
        "id": "c72b539e"
      },
      "source": [
        "### Diagonale della matrice\n",
        "\n",
        "- La diagonale della matrice creata contiene i prodotti scalari di ciascuna riga della matrice originale con se stessa\n",
        "- Si può verificare che sono uguali al numero di acquisti per colonne calcolato sopra"
      ]
    },
    {
      "cell_type": "code",
      "execution_count": null,
      "id": "890ae69d",
      "metadata": {
        "id": "890ae69d",
        "outputId": "59ca0f3f-e2cf-4820-f942-cb690f4c68fe"
      },
      "outputs": [
        {
          "data": {
            "text/plain": [
              "True"
            ]
          },
          "execution_count": 56,
          "metadata": {},
          "output_type": "execute_result"
        }
      ],
      "source": [
        "np.array_equal(np.diag(similarity), user_purchases)"
      ]
    },
    {
      "cell_type": "markdown",
      "id": "a16838f7",
      "metadata": {
        "id": "a16838f7"
      },
      "source": [
        "- Prima di procedere, **impostiamo a 0 tutti i valori sulla diagonale** per far sì che tra i simili di ciascun utente non sia incluso lui stesso\n",
        "  - la funzione `fill_diagonal` imposta gli elementi della diagonale al valore dato"
      ]
    },
    {
      "cell_type": "code",
      "execution_count": 79,
      "id": "0ba4767b",
      "metadata": {
        "colab": {
          "base_uri": "https://localhost:8080/"
        },
        "id": "0ba4767b",
        "outputId": "9affc81c-650b-406a-d29e-9d584e197dd1"
      },
      "outputs": [
        {
          "output_type": "execute_result",
          "data": {
            "text/plain": [
              "array([[0, 4, 1, 0, 1],\n",
              "       [4, 0, 1, 0, 0],\n",
              "       [1, 1, 0, 1, 4],\n",
              "       [0, 0, 1, 0, 1],\n",
              "       [1, 0, 4, 1, 0]])"
            ]
          },
          "metadata": {},
          "execution_count": 79
        }
      ],
      "source": [
        "np.fill_diagonal(similarity, 0)\n",
        "similarity[:5, :5]"
      ]
    },
    {
      "cell_type": "markdown",
      "id": "347b3d52",
      "metadata": {
        "id": "347b3d52"
      },
      "source": [
        "### Esercizio 4: Estrazione informazioni dalla matrice similarità\n",
        "\n",
        "- **(4a)** Qual è il numero massimo di prodotti in comune tra due utenti?\n",
        "- **(4b)** Qual è il nome dell'utente che ha più acquisti in comune con l'utente con ID 7661?"
      ]
    },
    {
      "cell_type": "code",
      "source": [
        "similarity.max()"
      ],
      "metadata": {
        "colab": {
          "base_uri": "https://localhost:8080/"
        },
        "id": "JA-UmqZ1pg24",
        "outputId": "6b50c273-367c-42f5-c300-e2ce61ae3d88"
      },
      "id": "JA-UmqZ1pg24",
      "execution_count": 85,
      "outputs": [
        {
          "output_type": "execute_result",
          "data": {
            "text/plain": [
              "53"
            ]
          },
          "metadata": {},
          "execution_count": 85
        }
      ]
    },
    {
      "cell_type": "code",
      "source": [
        "user_names[similarity[user_indices[7661]].argmax()]"
      ],
      "metadata": {
        "colab": {
          "base_uri": "https://localhost:8080/",
          "height": 35
        },
        "id": "GXeh230mpySg",
        "outputId": "8751bdf6-f142-4dad-a5fc-0f62189d41cf"
      },
      "id": "GXeh230mpySg",
      "execution_count": 90,
      "outputs": [
        {
          "output_type": "execute_result",
          "data": {
            "text/plain": [
              "'brent been'"
            ],
            "application/vnd.google.colaboratory.intrinsic+json": {
              "type": "string"
            }
          },
          "metadata": {},
          "execution_count": 90
        }
      ]
    },
    {
      "cell_type": "markdown",
      "id": "b3c6fdc6",
      "metadata": {
        "id": "b3c6fdc6"
      },
      "source": [
        "## Stimare il potenziale interesse nei prodotti\n",
        "\n",
        "- Per stimare **quanto ciascun utente U sia potenzialmente interessato** in ciascun prodotto P, calcoliamo la somma delle similarità degli altri utenti che l'hanno acquistato\n",
        "- Con Python abbiamo preso i punteggi di similarità tra U e altri utenti, filtrato quelli dei soli acquirenti di P e calcolato la loro somma\n",
        "- Questa somma equivale in pratica al prodotto scalare tra:\n",
        "  - la riga relativa a U di `similarity` che indica i punteggi di similarità con gli altri utenti e\n",
        "  - la colonna relativa a P di `purchases` che indica quali utenti lo hanno acquistato\n",
        "- Ad esempio, l'interesse stimato del 1° utente verso il 2° prodotto è:"
      ]
    },
    {
      "cell_type": "code",
      "execution_count": 91,
      "id": "93ff74a6",
      "metadata": {
        "colab": {
          "base_uri": "https://localhost:8080/"
        },
        "id": "93ff74a6",
        "outputId": "86d85fd3-0868-409e-f64f-345c0d7e4358"
      },
      "outputs": [
        {
          "output_type": "execute_result",
          "data": {
            "text/plain": [
              "5"
            ]
          },
          "metadata": {},
          "execution_count": 91
        }
      ],
      "source": [
        "similarity[0, :] @ purchases[:, 1]"
      ]
    },
    {
      "cell_type": "markdown",
      "id": "193b260b",
      "metadata": {
        "id": "193b260b"
      },
      "source": [
        "- Per ottenere l'interesse di ogni utente U verso ogni prodotto P possiamo quindi usare come sopra il prodotto tra le due matrici\n",
        "  - la matrice `common_purchases` ha forma **utenti** x utenti\n",
        "  - la matrice `purchases` ha forma utenti x **prodotti**\n",
        "  - la matrice risultante avrà forma **utenti x prodotti**"
      ]
    },
    {
      "cell_type": "code",
      "execution_count": 92,
      "id": "6782e55e",
      "metadata": {
        "id": "6782e55e"
      },
      "outputs": [],
      "source": [
        "interest = similarity @ purchases"
      ]
    },
    {
      "cell_type": "markdown",
      "id": "1e92de3d",
      "metadata": {
        "id": "1e92de3d"
      },
      "source": [
        "- Verifichiamo che la forma della matrice sia pari a quella della matrice degli acquisti (utenti x prodotti)"
      ]
    },
    {
      "cell_type": "code",
      "execution_count": 93,
      "id": "6488bd84",
      "metadata": {
        "colab": {
          "base_uri": "https://localhost:8080/"
        },
        "id": "6488bd84",
        "outputId": "5517455f-5d9c-49ff-aebe-b4a054d0b12f"
      },
      "outputs": [
        {
          "output_type": "execute_result",
          "data": {
            "text/plain": [
              "True"
            ]
          },
          "metadata": {},
          "execution_count": 93
        }
      ],
      "source": [
        "interest.shape == purchases.shape"
      ]
    },
    {
      "cell_type": "markdown",
      "id": "bbebacd9",
      "metadata": {
        "id": "bbebacd9"
      },
      "source": [
        "- Visualizziamo un estratto della matrice..."
      ]
    },
    {
      "cell_type": "code",
      "execution_count": 94,
      "id": "208ec8d0",
      "metadata": {
        "colab": {
          "base_uri": "https://localhost:8080/"
        },
        "id": "208ec8d0",
        "outputId": "22472000-6e7f-46f9-e0ce-95e74002bcdd"
      },
      "outputs": [
        {
          "output_type": "execute_result",
          "data": {
            "text/plain": [
              "array([[ 0,  5,  0,  4,  4,  3,  1,  0,  4,  3],\n",
              "       [ 3,  7,  1,  6,  1,  1,  2,  1,  2,  0],\n",
              "       [ 6,  9,  0, 12,  0,  0,  1,  0,  9,  0],\n",
              "       [ 1,  2,  2,  8,  0,  0,  0,  2,  5,  2],\n",
              "       [ 3,  2,  0,  5,  0,  0,  0,  0,  2,  0],\n",
              "       [ 2,  5,  0, 10,  0,  0,  1,  0,  5,  0],\n",
              "       [ 0,  5,  5,  5,  1,  2,  1,  5,  2,  3],\n",
              "       [ 1,  5,  0,  7,  0,  0,  0,  0,  0,  3],\n",
              "       [ 2,  4,  0,  9,  0,  0,  1,  0,  4,  4],\n",
              "       [ 6, 17,  0, 25,  0,  0,  0,  0,  9,  2]])"
            ]
          },
          "metadata": {},
          "execution_count": 94
        }
      ],
      "source": [
        "interest[0:10, 0:10]"
      ]
    },
    {
      "cell_type": "markdown",
      "id": "810f95ab",
      "metadata": {
        "id": "810f95ab"
      },
      "source": [
        "- Ad esempio si ritiene che il 10° utente (ultima riga) sia molto interessato al 4° prodotto"
      ]
    },
    {
      "cell_type": "markdown",
      "id": "83ad2cba",
      "metadata": {
        "id": "83ad2cba"
      },
      "source": [
        "### Esercizio 5: Scartare i prodotti già acquistati\n",
        "\n",
        "- Nella matrice calcolata `interest`, sono ritenuti \"interessanti\" anche i prodotti **già acquistati** da ciascun utente\n",
        "- Prima di proseguire, **impostare a 0** i valori di `interest` relativi a coppie utente-prodotto a cui **corrisponde un acquisto effettuato**"
      ]
    },
    {
      "cell_type": "code",
      "source": [
        "interest[purchases > 0] = 0"
      ],
      "metadata": {
        "id": "rKoIP1TzvMlI"
      },
      "id": "rKoIP1TzvMlI",
      "execution_count": 96,
      "outputs": []
    },
    {
      "cell_type": "code",
      "source": [
        "interest"
      ],
      "metadata": {
        "colab": {
          "base_uri": "https://localhost:8080/"
        },
        "id": "FPu0IN8ivY1e",
        "outputId": "4053f096-fa03-4108-a07d-845627cab1be"
      },
      "id": "FPu0IN8ivY1e",
      "execution_count": 97,
      "outputs": [
        {
          "output_type": "execute_result",
          "data": {
            "text/plain": [
              "array([[ 0,  5,  0, ...,  5,  8, 10],\n",
              "       [ 3,  7,  1, ...,  7,  5,  6],\n",
              "       [ 6,  9,  0, ...,  9,  9,  5],\n",
              "       ...,\n",
              "       [ 2,  8,  5, ...,  8,  0, 11],\n",
              "       [ 0,  1,  0, ...,  1,  1,  0],\n",
              "       [ 3,  6,  0, ...,  6,  8,  5]])"
            ]
          },
          "metadata": {},
          "execution_count": 97
        }
      ]
    },
    {
      "cell_type": "markdown",
      "id": "c658fd89",
      "metadata": {
        "id": "c658fd89"
      },
      "source": [
        "## Ottenere _N_ suggerimenti di acquisto per ogni utente\n",
        "\n",
        "- Come la scorsa volta, vogliamo suggerire un numero fisso N di prodotti ad ogni utente, scegliendo quelli con interesse previsto maggiore"
      ]
    },
    {
      "cell_type": "code",
      "execution_count": 100,
      "id": "d7d3d30d",
      "metadata": {
        "id": "d7d3d30d"
      },
      "outputs": [],
      "source": [
        "N = 20"
      ]
    },
    {
      "cell_type": "markdown",
      "id": "1c7a00d4",
      "metadata": {
        "id": "1c7a00d4"
      },
      "source": [
        "- Per prima cosa assegniamo a ciascun prodotto un \"ranking\" in base all'interesse per ciascun utente\n",
        "- Quindi selezioniamo per ogni cliente gli _N_ prodotti col ranking migliore"
      ]
    },
    {
      "cell_type": "markdown",
      "id": "2e77743f",
      "metadata": {
        "id": "2e77743f"
      },
      "source": [
        "### Estrarre l'ordine dei valori: il metodo `argsort`\n",
        "\n",
        "- Il metodo `argsort` su un vettore restituisce un vettore con i suoi **indici** (da 0 a N-1) **ordinati** secondo i valori"
      ]
    },
    {
      "cell_type": "code",
      "execution_count": 101,
      "id": "3a64c6c9",
      "metadata": {
        "colab": {
          "base_uri": "https://localhost:8080/"
        },
        "id": "3a64c6c9",
        "outputId": "97963e3b-774b-4979-ce44-4bec1da06ae7"
      },
      "outputs": [
        {
          "output_type": "execute_result",
          "data": {
            "text/plain": [
              "array([6, 2, 3, 1, 4, 0, 5])"
            ]
          },
          "metadata": {},
          "execution_count": 101
        }
      ],
      "source": [
        "x = np.array([320, 80, 20, 40, 160, 640, 10])\n",
        "x.argsort()"
      ]
    },
    {
      "cell_type": "markdown",
      "id": "0c1f3cbf",
      "metadata": {
        "id": "0c1f3cbf"
      },
      "source": [
        "- Significa che l'elemento minimo è quello di indice 6 (10), seguito da quello di indice 2 (20) e così via fino al massimo di indice 5 (640)\n",
        "- In pratica, selezionando gli elementi dell'array nell'ordine dato da `argsort`, otteniamo un array con gli elementi in ordine crescente"
      ]
    },
    {
      "cell_type": "code",
      "execution_count": 102,
      "id": "290507fd",
      "metadata": {
        "colab": {
          "base_uri": "https://localhost:8080/"
        },
        "id": "290507fd",
        "outputId": "caada7fb-b74a-491e-d56d-0531640e3e5e"
      },
      "outputs": [
        {
          "output_type": "execute_result",
          "data": {
            "text/plain": [
              "array([ 10,  20,  40,  80, 160, 320, 640])"
            ]
          },
          "metadata": {},
          "execution_count": 102
        }
      ],
      "source": [
        "x[x.argsort()]"
      ]
    },
    {
      "cell_type": "markdown",
      "id": "85ab8937",
      "metadata": {
        "id": "85ab8937"
      },
      "source": [
        "- Nel caso di una matrice, l'operazione va eseguita **lungo una dimensione** a scelta (riga per riga o colonna per colonna)"
      ]
    },
    {
      "cell_type": "code",
      "execution_count": 103,
      "id": "d9844f99",
      "metadata": {
        "colab": {
          "base_uri": "https://localhost:8080/"
        },
        "id": "d9844f99",
        "outputId": "932f1dcb-a9f5-43d4-e877-a9b820122c58"
      },
      "outputs": [
        {
          "output_type": "execute_result",
          "data": {
            "text/plain": [
              "array([[6, 2, 3, 1, 4, 0, 5],\n",
              "       [5, 6, 2, 0, 1, 4, 3]])"
            ]
          },
          "metadata": {},
          "execution_count": 103
        }
      ],
      "source": [
        "np.array([[32,  8,  2,  4, 16, 64,  1],\n",
        "          [ 8, 16,  4, 64, 32,  1,  2]]).argsort(1)   # 1 = riga per riga"
      ]
    },
    {
      "cell_type": "markdown",
      "id": "b9f4e6bf",
      "metadata": {
        "id": "b9f4e6bf"
      },
      "source": [
        "### Calcolare il \"ranking\" dei prodotti\n",
        "\n",
        "- Applicando l'operazione `argsort` due volte otteniamo il \"ranking\" dei valore, ovvero l'indice che ogni elemento avrebbe nell'array ordinato\n",
        "  - otteniamo quindi un array che associa **0 all'elemento più basso, 1 al secondo e così via**"
      ]
    },
    {
      "cell_type": "code",
      "execution_count": 104,
      "id": "ef85d29d",
      "metadata": {
        "colab": {
          "base_uri": "https://localhost:8080/"
        },
        "id": "ef85d29d",
        "outputId": "0ed18d67-cc6c-458e-fe87-0bc46864be03"
      },
      "outputs": [
        {
          "output_type": "execute_result",
          "data": {
            "text/plain": [
              "array([320,  80,  20,  40, 160, 640,  10])"
            ]
          },
          "metadata": {},
          "execution_count": 104
        }
      ],
      "source": [
        "x"
      ]
    },
    {
      "cell_type": "code",
      "execution_count": 105,
      "id": "036db53d",
      "metadata": {
        "colab": {
          "base_uri": "https://localhost:8080/"
        },
        "id": "036db53d",
        "outputId": "799c2213-75f4-4acf-85d5-12bd2e5edab5"
      },
      "outputs": [
        {
          "output_type": "execute_result",
          "data": {
            "text/plain": [
              "array([6, 2, 3, 1, 4, 0, 5])"
            ]
          },
          "metadata": {},
          "execution_count": 105
        }
      ],
      "source": [
        "x.argsort()"
      ]
    },
    {
      "cell_type": "markdown",
      "id": "b144da41",
      "metadata": {
        "id": "b144da41"
      },
      "source": [
        "Da leggersi: l'elemento più basso di `x` ha indice 6, il secondo ha indice 2, ..."
      ]
    },
    {
      "cell_type": "code",
      "execution_count": 106,
      "id": "38534258",
      "metadata": {
        "colab": {
          "base_uri": "https://localhost:8080/"
        },
        "id": "38534258",
        "outputId": "9c5060d5-ecf4-46d7-b884-7e58c8320d89"
      },
      "outputs": [
        {
          "output_type": "execute_result",
          "data": {
            "text/plain": [
              "array([5, 3, 1, 2, 4, 6, 0])"
            ]
          },
          "metadata": {},
          "execution_count": 106
        }
      ],
      "source": [
        "x.argsort().argsort()"
      ]
    },
    {
      "cell_type": "markdown",
      "id": "d84fe342",
      "metadata": {
        "id": "d84fe342"
      },
      "source": [
        "Da leggersi: il primo elemento di `x` è il 5° (contando da 0°) più basso, il secondo è il 3°, ...\n",
        "\n",
        "_(chi fosse curioso può leggere [questa dimostrazione formale](https://www.berkayantmen.com/rank.html) che spiega perché si ottiene questo risultato)_"
      ]
    },
    {
      "cell_type": "markdown",
      "id": "757e4c8e",
      "metadata": {
        "id": "757e4c8e"
      },
      "source": [
        "### Ottenere il ranking dei prodotti per ogni utente\n",
        "\n",
        "- Tramite l'applicazione doppia di `argsort`, possiamo trasformare i punteggi di `interest` in valori 0, 1, 2, ... che indichino in ciascuna riga il valore più basso, il secondo ecc.\n",
        "- D'altra parte, **invertendo** l'array a cui è applicata l'operazione, otteniamo un array che associa 0 al valore **più alto**, 1 al secondo ecc.\n",
        "- Applichiamo queste operazioni per ottenere un array `interest_ranking`"
      ]
    },
    {
      "cell_type": "code",
      "execution_count": 107,
      "id": "7485027f",
      "metadata": {
        "id": "7485027f"
      },
      "outputs": [],
      "source": [
        "interest_ranking = (-interest).argsort(1).argsort(1) # riga per riga"
      ]
    },
    {
      "cell_type": "code",
      "execution_count": 108,
      "id": "c139f5bf",
      "metadata": {
        "colab": {
          "base_uri": "https://localhost:8080/"
        },
        "id": "c139f5bf",
        "outputId": "733e2e93-ea33-410b-9e57-88204edc82ac"
      },
      "outputs": [
        {
          "output_type": "execute_result",
          "data": {
            "text/plain": [
              "array([[3383, 1259, 2771, 1347, 1346, 1648, 2684, 2775, 1352, 1655],\n",
              "       [1585,  853, 2324, 1097, 2297, 2300, 1860, 2310, 1854, 2794],\n",
              "       [1214,  930, 2777,  595, 2874, 2857, 2224, 2773,  925, 2782],\n",
              "       [2148, 1519, 1515,  359, 2821, 2817, 2816, 1507,  808, 1511],\n",
              "       [1197, 1739, 2676,  775, 2675, 2672, 2667, 2666, 1750, 2654]])"
            ]
          },
          "metadata": {},
          "execution_count": 108
        }
      ],
      "source": [
        "interest_ranking[:5, :10]"
      ]
    },
    {
      "cell_type": "markdown",
      "id": "ff3a5ade",
      "metadata": {
        "id": "ff3a5ade"
      },
      "source": [
        "- La matrice indica ad es. che, per il primo utente, il secondo prodotto è il 1.259° (partendo da 0°) più interessante da acquistare"
      ]
    },
    {
      "cell_type": "markdown",
      "id": "75e55e0b",
      "metadata": {
        "id": "75e55e0b"
      },
      "source": [
        "### Selezionare i prodotti da suggerire\n",
        "\n",
        "- Abbiamo così ottenuto un array dove per ogni utente (riga) abbiamo i prodotti numerati univocamente da 0 a _N_-1 in ordine di interesse\n",
        "- Da questo array possiamo quindi selezionare i **valori minori di _N_** per ottenere gli **_N_ prodotti di maggiore interesse** per ciascun utente\n",
        "  - otteniamo una matrice booleana, che convertiamo in numerica con `astype`"
      ]
    },
    {
      "cell_type": "code",
      "execution_count": 109,
      "id": "e95d4d1a",
      "metadata": {
        "id": "e95d4d1a"
      },
      "outputs": [],
      "source": [
        "suggestions = (interest_ranking < N).astype(int)"
      ]
    },
    {
      "cell_type": "code",
      "source": [
        "suggestions.sum(1)"
      ],
      "metadata": {
        "colab": {
          "base_uri": "https://localhost:8080/"
        },
        "id": "UrURu6jgz1Mf",
        "outputId": "8db9126d-5e14-4a23-f3f8-3483d60c54fd"
      },
      "id": "UrURu6jgz1Mf",
      "execution_count": 111,
      "outputs": [
        {
          "output_type": "execute_result",
          "data": {
            "text/plain": [
              "array([20, 20, 20, 20, 20, 20, 20, 20, 20, 20, 20, 20, 20, 20, 20, 20, 20,\n",
              "       20, 20, 20, 20, 20, 20, 20, 20, 20, 20, 20, 20, 20, 20, 20, 20, 20,\n",
              "       20, 20, 20, 20, 20, 20, 20, 20, 20, 20, 20, 20, 20, 20, 20, 20, 20,\n",
              "       20, 20, 20, 20, 20, 20, 20, 20, 20, 20, 20, 20, 20, 20, 20, 20, 20,\n",
              "       20, 20, 20, 20, 20, 20, 20, 20, 20, 20, 20, 20, 20, 20, 20, 20, 20,\n",
              "       20, 20, 20, 20, 20, 20, 20, 20, 20, 20, 20, 20, 20, 20, 20, 20, 20,\n",
              "       20, 20, 20, 20, 20, 20, 20, 20, 20, 20, 20, 20, 20, 20, 20, 20, 20,\n",
              "       20, 20, 20, 20, 20, 20, 20, 20, 20, 20, 20, 20, 20, 20, 20, 20, 20,\n",
              "       20, 20, 20, 20, 20, 20, 20, 20, 20, 20, 20, 20, 20, 20, 20, 20, 20,\n",
              "       20, 20, 20, 20, 20, 20, 20, 20, 20, 20, 20, 20, 20, 20, 20, 20, 20,\n",
              "       20, 20, 20, 20, 20, 20, 20, 20])"
            ]
          },
          "metadata": {},
          "execution_count": 111
        }
      ]
    },
    {
      "cell_type": "markdown",
      "id": "1a1c5bfd",
      "metadata": {
        "id": "1a1c5bfd"
      },
      "source": [
        "- Questa è la **matrice dei prodotti suggeriti**, che associa ad ogni utente gli _N_ prodotti a cui è potenzialmente più interessato"
      ]
    },
    {
      "cell_type": "markdown",
      "id": "7e9716d8",
      "metadata": {
        "id": "7e9716d8"
      },
      "source": [
        "## Accuratezza dei suggerimenti di acquisto\n",
        "\n",
        "- Come la scorsa volta, valutiamo i suggerimenti ottenuti comparandoli con gli acquisti effettuati dopo l'analisi\n",
        "- Tali acquisti sono riportati nel file `purchases-2014.csv`\n",
        "- Come abbiamo fatto per il primo file, creiamo una matrice binaria che indichi quali utenti hanno acquistato quali prodotti\n",
        "  - `zeros_like` crea una matrice di zeri di tipo e forma identiche a una data (esistono anche `empty_like` e `ones_like`)"
      ]
    },
    {
      "cell_type": "code",
      "execution_count": 139,
      "id": "57c66f09",
      "metadata": {
        "id": "57c66f09"
      },
      "outputs": [],
      "source": [
        "purchases_updated = np.zeros_like(purchases) #crea matrice stessa forma purchases ma tutti zeri"
      ]
    },
    {
      "cell_type": "markdown",
      "id": "c6696381",
      "metadata": {
        "id": "c6696381"
      },
      "source": [
        "### Esercizio 6: Caricamento dati in matrice\n",
        "\n",
        "- Impostare a 1 gli elementi di `purchases_updated` corrispondenti alle coppie utente-prodotto nel file CSV `purchases-2014.csv`\n",
        "  - non usare una struttura dati intermedia (es. l'insieme `purchases_set` usato sopra)\n",
        "  - riutilizzare gli stessi dizionari `user_indices` e `item_indices` di prima per garantire che righe e colonne delle matrici combacino"
      ]
    },
    {
      "cell_type": "code",
      "source": [
        "with open(\"purchases-2014.csv\", \"r\") as f:\n",
        "    # purchases_set = {(int(uid), int(iid)) for uid, iid in csv.reader(f, delimiter=\";\")}\n",
        "    for uid, iid in csv.reader(f, delimiter=\";\"):\n",
        "      # ATTENZIONE! csv.reader restituisce sempre delle stringhe! Ricorda di convertire ad interi\n",
        "      purchases_updated[user_indices[int(uid)], item_indices[int(iid)]] = 1"
      ],
      "metadata": {
        "id": "3mQTvHTF0Ns_"
      },
      "id": "3mQTvHTF0Ns_",
      "execution_count": 147,
      "outputs": []
    },
    {
      "cell_type": "code",
      "source": [
        "purchases_updated"
      ],
      "metadata": {
        "colab": {
          "base_uri": "https://localhost:8080/"
        },
        "id": "SyequkHi4Iea",
        "outputId": "a05bfaf3-5d08-49ba-b2bd-92201b3bde6c"
      },
      "id": "SyequkHi4Iea",
      "execution_count": 148,
      "outputs": [
        {
          "output_type": "execute_result",
          "data": {
            "text/plain": [
              "array([[0, 0, 0, ..., 0, 0, 0],\n",
              "       [0, 0, 0, ..., 0, 0, 0],\n",
              "       [0, 0, 0, ..., 0, 0, 0],\n",
              "       ...,\n",
              "       [0, 0, 0, ..., 0, 1, 0],\n",
              "       [0, 0, 0, ..., 0, 0, 0],\n",
              "       [0, 0, 0, ..., 0, 0, 0]])"
            ]
          },
          "metadata": {},
          "execution_count": 148
        }
      ]
    },
    {
      "cell_type": "markdown",
      "id": "b4bc015a",
      "metadata": {
        "id": "b4bc015a"
      },
      "source": [
        "### Esercizio 7: Selezionare solo i nuovi acquisti\n",
        "\n",
        "- La nuova matrice riporta **tutti** gli acquisti, compresi quelli già indicati nella matrice precedente\n",
        "- Vogliamo una matrice binaria `new_purchases` in cui siano indicati **solo gli acquisti successivi** all'analisi svolta sopra\n",
        "- Quale operazione tra le matrici `purchases` e `purchases_updated` ci permette di ottenere tale risultato?"
      ]
    },
    {
      "cell_type": "code",
      "execution_count": 149,
      "id": "129067e8",
      "metadata": {
        "id": "129067e8"
      },
      "outputs": [],
      "source": [
        "new_purchases = purchases_updated - purchases"
      ]
    },
    {
      "cell_type": "markdown",
      "id": "90d06e80",
      "metadata": {
        "id": "90d06e80"
      },
      "source": [
        "### Esercizio 8: Quali nuovi acquisti sono stati suggeriti?\n",
        "\n",
        "- Abbiamo ora la matrice `suggestions` con gli acquisti _suggeriti_ e quella `new_purchases` con i nuovi acquisti _effettivi_\n",
        "- Da queste possiamo estrarre una matrice binaria `hits` che indichi quali sono i suggerimenti **validi**, quelli a cui dopo l'analisi è corrisposto un acquisto\n",
        "- Quale operazione tra le due matrici ci fa ottenere tale risultato?"
      ]
    },
    {
      "cell_type": "code",
      "execution_count": 150,
      "id": "0ef71ed0",
      "metadata": {
        "id": "0ef71ed0"
      },
      "outputs": [],
      "source": [
        "hits = suggestions * new_purchases"
      ]
    },
    {
      "cell_type": "code",
      "source": [
        "hits.sum()"
      ],
      "metadata": {
        "colab": {
          "base_uri": "https://localhost:8080/"
        },
        "id": "SU-weKyp3Cxx",
        "outputId": "7abb7aa4-cd1b-4a20-debd-eb8ee6184bfc"
      },
      "id": "SU-weKyp3Cxx",
      "execution_count": 151,
      "outputs": [
        {
          "output_type": "execute_result",
          "data": {
            "text/plain": [
              "149"
            ]
          },
          "metadata": {},
          "execution_count": 151
        }
      ]
    },
    {
      "cell_type": "markdown",
      "id": "4e99baf6",
      "metadata": {
        "id": "4e99baf6"
      },
      "source": [
        "### Esercizio 9: Quanti utenti hanno ricevuto almeno un suggerimento valido?\n",
        "\n",
        "- **(9a)** Ottenere un vettore binario `satisfied_users` che associ 1 ai soli utenti che hanno ottenuto almeno un suggerimento valido, cioè almeno un 1 nella riga corrispondente di `hits`\n",
        "- **(9b)** Ricavare dal vettore stesso il numero di tali utenti\n",
        "- **(9c)** Ricavare dal vettore stesso la percentuale di tali utenti rispetto al numero totale"
      ]
    },
    {
      "cell_type": "code",
      "execution_count": 152,
      "id": "4ef7465d",
      "metadata": {
        "id": "4ef7465d"
      },
      "outputs": [],
      "source": [
        "satisfied_users = hits.max(1)"
      ]
    },
    {
      "cell_type": "code",
      "source": [
        "satisfied_users.sum()"
      ],
      "metadata": {
        "colab": {
          "base_uri": "https://localhost:8080/"
        },
        "id": "F1qttpVh4XKZ",
        "outputId": "cc66547b-027c-4630-ef78-1f42e9884276"
      },
      "id": "F1qttpVh4XKZ",
      "execution_count": 154,
      "outputs": [
        {
          "output_type": "execute_result",
          "data": {
            "text/plain": [
              "61"
            ]
          },
          "metadata": {},
          "execution_count": 154
        }
      ]
    },
    {
      "cell_type": "code",
      "source": [
        "satisfied_users.mean()"
      ],
      "metadata": {
        "colab": {
          "base_uri": "https://localhost:8080/"
        },
        "id": "qCYdvmfv4DAh",
        "outputId": "8d11fa62-be8f-41af-b329-da8185846774"
      },
      "id": "qCYdvmfv4DAh",
      "execution_count": 153,
      "outputs": [
        {
          "output_type": "execute_result",
          "data": {
            "text/plain": [
              "0.34269662921348315"
            ]
          },
          "metadata": {},
          "execution_count": 153
        }
      ]
    },
    {
      "cell_type": "markdown",
      "id": "8012296d",
      "metadata": {
        "id": "8012296d"
      },
      "source": [
        "- Si dovrebbe ottenere una percentuale del **34,3%** di utenti soddisfatti, alla pari della scorsa esercitazione"
      ]
    },
    {
      "cell_type": "markdown",
      "id": "7828638f",
      "metadata": {
        "id": "7828638f"
      },
      "source": [
        "## Esercizio extra: Confronto con una selezione casuale di prodotti\n",
        "\n",
        "- Come nella scorsa esercitazione, per valutare quanto sia buono il risultato ottenuto, confrontiamolo con quello che si otterrebbe suggerendo prodotti a caso\n",
        "- Utilizziamo la generazione casuale di array fornita da NumPy, inizializzando il relativo seed"
      ]
    },
    {
      "cell_type": "code",
      "execution_count": 155,
      "id": "9eea0f4b",
      "metadata": {
        "id": "9eea0f4b"
      },
      "outputs": [],
      "source": [
        "np.random.seed(123)"
      ]
    },
    {
      "cell_type": "markdown",
      "id": "c18fd1b3",
      "metadata": {
        "id": "c18fd1b3"
      },
      "source": [
        "- **(a)** generare una matrice `random_interest` di forma pari ad `interest` con valori casuali\n",
        "  - usare una funzione per generare valori casuali in un intervallo continuo, ad es `np.random.random`, indicando la forma desiderata"
      ]
    },
    {
      "cell_type": "code",
      "execution_count": 160,
      "id": "56a40aa4",
      "metadata": {
        "id": "56a40aa4"
      },
      "outputs": [],
      "source": [
        "random_interest = np.zeros_like(interest)"
      ]
    },
    {
      "cell_type": "code",
      "source": [
        "random_interest"
      ],
      "metadata": {
        "colab": {
          "base_uri": "https://localhost:8080/"
        },
        "id": "LfhFfV1V4r35",
        "outputId": "d7dc2df1-c420-4610-8e27-1f13a7c7d51d"
      },
      "id": "LfhFfV1V4r35",
      "execution_count": 161,
      "outputs": [
        {
          "output_type": "execute_result",
          "data": {
            "text/plain": [
              "<function RandomState.random>"
            ]
          },
          "metadata": {},
          "execution_count": 161
        }
      ]
    },
    {
      "cell_type": "markdown",
      "id": "92d970ee",
      "metadata": {
        "id": "92d970ee"
      },
      "source": [
        "- **(b)** impostare a 0 i valori della matrice corrispondenti a prodotti già acquistati"
      ]
    },
    {
      "cell_type": "markdown",
      "id": "6e3b5b95",
      "metadata": {
        "id": "6e3b5b95"
      },
      "source": [
        "- **(c)** selezionare gli _N_ prodotti di maggiore interesse per ogni utente\n",
        "  - come sopra, generare la matrice con i ranking lungo ciascuna riga, quindi selezionare i ranking appropriati"
      ]
    },
    {
      "cell_type": "code",
      "execution_count": 157,
      "id": "351eaf15",
      "metadata": {
        "id": "351eaf15"
      },
      "outputs": [],
      "source": [
        "random_interest_ranking = ...\n",
        "random_suggestions = ..."
      ]
    },
    {
      "cell_type": "markdown",
      "id": "7d3e8d6b",
      "metadata": {
        "id": "7d3e8d6b"
      },
      "source": [
        "- **(d)** eseguire il confronto con i prodotti effettivamente acquistati ed estrarre il vettore che indica gli utenti con almeno un suggerimento valido"
      ]
    },
    {
      "cell_type": "code",
      "execution_count": 158,
      "id": "bc7b352c",
      "metadata": {
        "id": "bc7b352c"
      },
      "outputs": [],
      "source": [
        "random_hits = ...\n",
        "randomly_satisfied_users = ..."
      ]
    },
    {
      "cell_type": "markdown",
      "id": "00d1e827",
      "metadata": {
        "id": "00d1e827"
      },
      "source": [
        "- **(e)** calcolare la percentuale di tali utenti rispetto al totale"
      ]
    }
  ],
  "metadata": {
    "language_info": {
      "name": "python"
    },
    "colab": {
      "provenance": []
    },
    "kernelspec": {
      "name": "python3",
      "display_name": "Python 3"
    },
    "gpuClass": "standard"
  },
  "nbformat": 4,
  "nbformat_minor": 5
}